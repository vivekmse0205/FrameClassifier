{
 "cells": [
  {
   "cell_type": "code",
   "execution_count": 4,
   "metadata": {},
   "outputs": [],
   "source": [
    "import csv\n",
    "import cv2\n",
    "import torch\n",
    "import numpy as np\n",
    "from PIL import Image\n",
    "import torch.nn as nn\n",
    "from sklearn import metrics\n",
    "from torch.utils.data import Dataset\n",
    "from torchvision import transforms, models"
   ]
  },
  {
   "cell_type": "code",
   "execution_count": 13,
   "metadata": {},
   "outputs": [],
   "source": [
    "import matplotlib.pyplot as plt\n",
    "import seaborn as sns\n",
    "%matplotlib inline"
   ]
  },
  {
   "cell_type": "code",
   "execution_count": 14,
   "metadata": {},
   "outputs": [],
   "source": [
    "import pandas as pd"
   ]
  },
  {
   "cell_type": "code",
   "execution_count": 19,
   "metadata": {},
   "outputs": [],
   "source": [
    "class FrameDataset(Dataset):\n",
    "    def __init__(self, data, transform=None, label=None):\n",
    "        \"\"\"\n",
    "        Args:\n",
    "        data(numpy image)\n",
    "        transform: Pytorch transforms for transformations and tensor conversion\n",
    "        \"\"\"\n",
    "        self.data = data\n",
    "        self.transform = transform\n",
    "        self.label = label\n",
    "\n",
    "    def __getitem__(self, index):\n",
    "        \"\"\"\n",
    "        :param index: Index of the image\n",
    "        :return: Transformed image\n",
    "        \"\"\"\n",
    "        image = Image.fromarray(self.data)\n",
    "        if self.transform is not None:\n",
    "            image = self.transform(image)\n",
    "        return image\n",
    "\n",
    "    def __len__(self):\n",
    "        return 1\n",
    "\n",
    "\n",
    "class VideoFrameClassifier():\n",
    "    def __init__(self, model_path):\n",
    "        self.checkpoint = torch.load(model_path, map_location=lambda storage, loc: storage)\n",
    "        self.model = models.resnet34()\n",
    "        self.model.fc = nn.Linear(512, 4)\n",
    "        self.model.load_state_dict(self.checkpoint.get('state_dict'))\n",
    "        self.model.eval()\n",
    "        self.dataTransform = None\n",
    "        self.frame_type_mapper = {\n",
    "            '0': 'codewalk',\n",
    "            '1': 'handwritten',\n",
    "            '2': 'misc',\n",
    "            '3': 'slides'\n",
    "        }\n",
    "\n",
    "    def transform_input(self, current_image):\n",
    "        \"\"\"Applies and transforms the given image to format for model\n",
    "            @parameter\n",
    "               current_contrast level (int/float)\n",
    "                    current contrast level to be applied on image\n",
    "                current_image:\n",
    "                    Current image data\n",
    "            @returns\n",
    "                Transformed image to be feed into model\n",
    "        \"\"\"\n",
    "        input_image = Image.fromarray(current_image)\n",
    "        input_image = input_image.convert('RGB')\n",
    "        input_image = input_image.resize(self.input_size, Image.ANTIALIAS)\n",
    "        input_image = transforms.ToTensor()(input_image)\n",
    "        width, height = input_image.size(1), input_image.size(2)\n",
    "        input_image = input_image[0, :, :].view(1, width, height)\n",
    "        input_image = input_image.unsqueeze(0)\n",
    "        print(input_image.size())\n",
    "        return input_image\n",
    "\n",
    "    def get_prediction(self, image_data):\n",
    "        \"\"\"Get prediction of input image\n",
    "            @parameter\n",
    "               Image_data (numpy array)\n",
    "                    current image for which prediction is needed\n",
    "            @returns\n",
    "                @type(numpy.int64)\n",
    "                Class of current frame type\n",
    "        \"\"\"\n",
    "        self.image = image_data\n",
    "        self.model.eval()\n",
    "        self.model = self.model.cpu()\n",
    "        self.input_size = (400, 400)\n",
    "        self.dataTransform = transforms.Compose([\n",
    "            transforms.Resize(self.input_size),\n",
    "            transforms.ToTensor()\n",
    "        ])\n",
    "        self.transformedDataset = FrameDataset(data=image_data, transform=self.dataTransform)\n",
    "        self.dataloader = torch.utils.data.DataLoader(\n",
    "            self.transformedDataset,\n",
    "            batch_size=1,\n",
    "            shuffle=False\n",
    "        )\n",
    "        with torch.no_grad():\n",
    "            for input_image in self.dataloader:\n",
    "                prediction = self.model(input_image)\n",
    "                prediction = np.argmax(prediction.detach().numpy())\n",
    "        return prediction\n",
    "\n",
    "    def classify_frame(self, image_data, ground_truth=None) -> str:\n",
    "        \"\"\"Classify the frame type(codewalk/misc/handwritten/others).\n",
    "            @parameter\n",
    "               image_data (numpy nd array)\n",
    "                    Input Image\n",
    "            @returns\n",
    "                Type of frame - str\n",
    "        \"\"\"\n",
    "\n",
    "        frame_type = self.get_prediction(image_data)\n",
    "        frame_type = self.frame_type_mapper.get(str(frame_type))\n",
    "        return frame_type\n"
   ]
  },
  {
   "cell_type": "markdown",
   "metadata": {},
   "source": [
    "# Validate output with groundtruth"
   ]
  },
  {
   "cell_type": "code",
   "execution_count": 20,
   "metadata": {},
   "outputs": [
    {
     "name": "stdout",
     "output_type": "stream",
     "text": [
      "[[ 96   2   3   4]\n",
      " [  2 140  14   2]\n",
      " [  1   1 105   6]\n",
      " [  0   0  13 128]]\n",
      "              precision    recall  f1-score   support\n",
      "\n",
      "    codewalk      0.970     0.914     0.941       105\n",
      " handwritten      0.979     0.886     0.930       158\n",
      "        misc      0.778     0.929     0.847       113\n",
      "      slides      0.914     0.908     0.911       141\n",
      "\n",
      "    accuracy                          0.907       517\n",
      "   macro avg      0.910     0.909     0.907       517\n",
      "weighted avg      0.915     0.907     0.909       517\n",
      "\n"
     ]
    }
   ],
   "source": [
    "mapper_dict = { 'codewalk' : 0,\n",
    "                'handwritten':1,\n",
    "                'misc':2,\n",
    "                'slides':3\n",
    "                }\n",
    "frame_type_mapper = {\n",
    "    '0': 'codewalk',\n",
    "    '1': 'handwritten',\n",
    "    '2': 'misc',\n",
    "    '3': 'slides'\n",
    "}\n",
    "model_path = 'models/checkpoint_best_400.pth'\n",
    "frame_classifier = VideoFrameClassifier(model_path)\n",
    "test_set_path ='dataset_csv/test_set.csv'\n",
    "with open(test_set_path,'r') as csv_file:\n",
    "    reader = csv.reader(csv_file)\n",
    "    data = list(reader)\n",
    "prediction_list =[]\n",
    "groundtruth_list = []\n",
    "for each_file in data:\n",
    "    file_path = each_file[0]\n",
    "    groundtruth = each_file[1]\n",
    "    image = cv2.imread(file_path)\n",
    "    frame_type = frame_classifier.classify_frame(image, ground_truth=None)\n",
    "    prediction_list.append(frame_type)\n",
    "    groundtruth_list.append(frame_type_mapper[str(groundtruth)])\n",
    "\n",
    "data = metrics.confusion_matrix(groundtruth_list, prediction_list)\n",
    "# Print the confusion matrix\n",
    "print(metrics.confusion_matrix(groundtruth_list, prediction_list))\n",
    "# Print the precision and recall, among other metrics\n",
    "print(metrics.classification_report(groundtruth_list, prediction_list, digits=3))"
   ]
  },
  {
   "cell_type": "code",
   "execution_count": 22,
   "metadata": {},
   "outputs": [
    {
     "data": {
      "text/plain": [
       "<matplotlib.axes._subplots.AxesSubplot at 0xc014f05848>"
      ]
     },
     "execution_count": 22,
     "metadata": {},
     "output_type": "execute_result"
    },
    {
     "data": {
      "image/png": "[encoded data removed]",
      "text/plain": [
       "<Figure size 720x504 with 2 Axes>"
      ]
     },
     "metadata": {},
     "output_type": "display_data"
    }
   ],
   "source": [
    "df_cm = pd.DataFrame(data, columns=np.unique(groundtruth_list), index = np.unique(prediction_list))\n",
    "df_cm.index.name = 'Actual'\n",
    "df_cm.columns.name = 'Predicted'\n",
    "plt.figure(figsize = (10,7))\n",
    "sns.set(font_scale=1.4)#for label size\n",
    "sns.heatmap(df_cm, cmap=\"Blues\", annot=True,annot_kws={\"size\": 18},fmt='g')# font size"
   ]
  },
  {
   "cell_type": "code",
   "execution_count": 21,
   "metadata": {},
   "outputs": [
    {
     "data": {
      "text/plain": [
       "array([[[409,   3],\n",
       "        [  9,  96]],\n",
       "\n",
       "       [[356,   3],\n",
       "        [ 18, 140]],\n",
       "\n",
       "       [[374,  30],\n",
       "        [  8, 105]],\n",
       "\n",
       "       [[364,  12],\n",
       "        [ 13, 128]]], dtype=int64)"
      ]
     },
     "execution_count": 21,
     "metadata": {},
     "output_type": "execute_result"
    }
   ],
   "source": [
    "metrics.multilabel_confusion_matrix(groundtruth_list,prediction_list)"
   ]
  },
  {
   "cell_type": "code",
   "execution_count": null,
   "metadata": {},
   "outputs": [],
   "source": []
  }
 ],
 "metadata": {
  "kernelspec": {
   "display_name": "syntech",
   "language": "python",
   "name": "syntech"
  },
  "language_info": {
   "codemirror_mode": {
    "name": "ipython",
    "version": 3
   },
   "file_extension": ".py",
   "mimetype": "text/x-python",
   "name": "python",
   "nbconvert_exporter": "python",
   "pygments_lexer": "ipython3",
   "version": "3.7.8"
  }
 },
 "nbformat": 4,
 "nbformat_minor": 4
}
